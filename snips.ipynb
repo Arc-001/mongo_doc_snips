{
 "cells": [
  {
   "cell_type": "code",
   "execution_count": 20,
   "id": "b92221e2",
   "metadata": {},
   "outputs": [
    {
     "name": "stdout",
     "output_type": "stream",
     "text": [
      "Defaulting to user installation because normal site-packages is not writeable\n",
      "Requirement already satisfied: pymongo in /var/data/python/lib/python3.12/site-packages (4.11.3)\n",
      "Requirement already satisfied: dnspython<3.0.0,>=1.16.0 in /var/data/python/lib/python3.12/site-packages (from pymongo) (2.7.0)\n",
      "Note: you may need to restart the kernel to use updated packages.\n"
     ]
    }
   ],
   "source": [
    "pip install pymongo"
   ]
  },
  {
   "cell_type": "code",
   "execution_count": 21,
   "id": "7e034600",
   "metadata": {},
   "outputs": [],
   "source": [
    "import pymongo\n"
   ]
  },
  {
   "cell_type": "code",
   "execution_count": 22,
   "id": "8fbf08e9",
   "metadata": {},
   "outputs": [],
   "source": [
    "from pymongo import MongoClient\n",
    "\n",
    "client = MongoClient(\"localhost\", 27017)"
   ]
  },
  {
   "cell_type": "code",
   "execution_count": 23,
   "id": "7a091c6d",
   "metadata": {},
   "outputs": [],
   "source": [
    "db = client.test_db\n",
    "# Alternatively db= client[\"test-db\"]\n",
    "\n",
    "test_col = db.test_col\n",
    "#Alternatively test_col = db[\"test-col\"]\n"
   ]
  },
  {
   "cell_type": "code",
   "execution_count": 5,
   "id": "cc65b6ba",
   "metadata": {},
   "outputs": [],
   "source": [
    "import datetime\n",
    "\n",
    "title = \"This is my first mongo insert\"\n",
    "content = \"This has the content of the blog\"\n",
    "img_id = [\"id for first img\", \"id for the second img\",\"Id for the third img\"]\n",
    "writting_date = datetime.datetime.now()\n",
    "\n",
    "\n",
    "post = {\n",
    "        \"title\":title,\n",
    "        \"content\":content,\n",
    "        \"img_id\":img_id,\n",
    "        \"writting_date\":writting_date,\n",
    "        \"timestamp_of_insertion\":datetime.datetime.now()\n",
    "}"
   ]
  },
  {
   "cell_type": "code",
   "execution_count": 24,
   "id": "f4e676ae",
   "metadata": {},
   "outputs": [],
   "source": [
    "posts = db.posts\n",
    "# post_id = posts.insert_one(post).inserted_id\n",
    "\n",
    "# print(post_id)\n",
    "\n"
   ]
  },
  {
   "cell_type": "code",
   "execution_count": 25,
   "id": "937b93e5",
   "metadata": {},
   "outputs": [
    {
     "name": "stdout",
     "output_type": "stream",
     "text": [
      "['posts']\n"
     ]
    }
   ],
   "source": [
    "print(db.list_collection_names())"
   ]
  },
  {
   "cell_type": "code",
   "execution_count": 26,
   "id": "94ce267b",
   "metadata": {},
   "outputs": [
    {
     "name": "stdout",
     "output_type": "stream",
     "text": [
      "Defaulting to user installation because normal site-packages is not writeable\n",
      "\u001b[31mERROR: Could not find a version that satisfies the requirement pprint (from versions: none)\u001b[0m\u001b[31m\n",
      "\u001b[0m\u001b[31mERROR: No matching distribution found for pprint\u001b[0m\u001b[31m\n",
      "\u001b[0mNote: you may need to restart the kernel to use updated packages.\n"
     ]
    }
   ],
   "source": [
    "pip install pprint"
   ]
  },
  {
   "cell_type": "code",
   "execution_count": 27,
   "id": "f40ce38a",
   "metadata": {},
   "outputs": [],
   "source": [
    "import pprint as prettyprint # type: ignore\n",
    "\n",
    "# prettyprint.pprint(posts.find_one(post_id))"
   ]
  },
  {
   "cell_type": "markdown",
   "id": "9169cfd4",
   "metadata": {},
   "source": [
    "## Short note on BSON\n",
    "---\n",
    "- BSON stands for binary JSON\n",
    "- Used for storing RPC(remote procedure call) and documents\n",
    "- some examples of types not avalable in JSON but in BSON are \n",
    "    - ObjectID\n",
    "    - Data\n",
    "    - Binary data\n",
    "- Porvides faster traversal of encoded data\n",
    "\n",
    "### Why?\n",
    "- 12 bytes ObjectId by mongo containing\n",
    "    - timestamp\n",
    "    - machine Identifier\n",
    "    - processid\n",
    "    - counter\n",
    "\n",
    "- this gurantees uniqueness\n"
   ]
  },
  {
   "cell_type": "code",
   "execution_count": 28,
   "id": "2402141f",
   "metadata": {},
   "outputs": [
    {
     "name": "stdout",
     "output_type": "stream",
     "text": [
      "{'_id': ObjectId('680240d0f823ada1d23d8bd2'),\n",
      " 'content': 'This has the content of the blog',\n",
      " 'img_id': ['id for first img',\n",
      "            'id for the second img',\n",
      "            'Id for the third img'],\n",
      " 'timestamp_of_insertion': datetime.datetime(2025, 4, 18, 17, 36, 59, 466000),\n",
      " 'title': 'This is my first mongo insert',\n",
      " 'writting_date': datetime.datetime(2025, 4, 18, 17, 36, 59, 466000)}\n"
     ]
    }
   ],
   "source": [
    "from bson.objectid import ObjectId\n",
    "\n",
    "#note how we have to first convert to the BSON ObjectId tp query\n",
    "prettyprint.pprint(posts.find_one({'_id':ObjectId('680240d0f823ada1d23d8bd2')}))"
   ]
  },
  {
   "cell_type": "code",
   "execution_count": 30,
   "id": "284a82e6",
   "metadata": {},
   "outputs": [],
   "source": [
    "#inserting a list of JSON\n",
    "list_of_posts = [\n",
    "    {\n",
    "        \"title\":\"tis the second post\",\n",
    "        \"content\":\"tis the content of second post\",\n",
    "        \"img_id\":\"12331231\",\n",
    "        \"writting_date\":datetime.datetime.now(),\n",
    "        \"timestamp_of_insertion\": datetime.datetime.now()\n",
    "    },\n",
    "    {\n",
    "        \"title\":\"this is the third post\",\n",
    "        \"content\":\"I am exhausted by typing all this dummy text\",\n",
    "        \"img_id\":\"123123132\",\n",
    "        \"writting_date\":datetime.datetime.now(),\n",
    "        \"timestamp_of_insertion\":datetime.datetime.now()\n",
    "    }\n",
    "]\n",
    "\n",
    "lst_of_id = posts.insert_many(list_of_posts)"
   ]
  },
  {
   "cell_type": "code",
   "execution_count": null,
   "id": "75d255e8",
   "metadata": {},
   "outputs": [
    {
     "name": "stdout",
     "output_type": "stream",
     "text": [
      "True\n",
      "[ObjectId('68036fcdec2c82ace03fda1b'), ObjectId('68036fcdec2c82ace03fda1c')]\n"
     ]
    }
   ],
   "source": [
    "#to get if the insertion worked\n",
    "print(lst_of_id.acknowledged)\n",
    "\n",
    "#to get the ids of inserted posts\n",
    "print(lst_of_id.inserted_ids)"
   ]
  },
  {
   "cell_type": "code",
   "execution_count": null,
   "id": "939f95e6",
   "metadata": {},
   "outputs": [],
   "source": []
  }
 ],
 "metadata": {
  "kernelspec": {
   "display_name": "Python 3",
   "language": "python",
   "name": "python3"
  },
  "language_info": {
   "codemirror_mode": {
    "name": "ipython",
    "version": 3
   },
   "file_extension": ".py",
   "mimetype": "text/x-python",
   "name": "python",
   "nbconvert_exporter": "python",
   "pygments_lexer": "ipython3",
   "version": "3.12.9"
  }
 },
 "nbformat": 4,
 "nbformat_minor": 5
}
