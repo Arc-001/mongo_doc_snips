{
 "cells": [
  {
   "cell_type": "code",
   "execution_count": 55,
   "id": "b92221e2",
   "metadata": {},
   "outputs": [
    {
     "name": "stdout",
     "output_type": "stream",
     "text": [
      "Defaulting to user installation because normal site-packages is not writeable\n",
      "Requirement already satisfied: pymongo in /var/data/python/lib/python3.12/site-packages (4.11.3)\n",
      "Requirement already satisfied: dnspython<3.0.0,>=1.16.0 in /var/data/python/lib/python3.12/site-packages (from pymongo) (2.7.0)\n",
      "Note: you may need to restart the kernel to use updated packages.\n"
     ]
    }
   ],
   "source": [
    "pip install pymongo"
   ]
  },
  {
   "cell_type": "code",
   "execution_count": 56,
   "id": "7e034600",
   "metadata": {},
   "outputs": [],
   "source": [
    "import pymongo\n"
   ]
  },
  {
   "cell_type": "code",
   "execution_count": 57,
   "id": "8fbf08e9",
   "metadata": {},
   "outputs": [],
   "source": [
    "from pymongo import MongoClient\n",
    "\n",
    "client = MongoClient(\"localhost\", 27017)"
   ]
  },
  {
   "cell_type": "code",
   "execution_count": 58,
   "id": "7a091c6d",
   "metadata": {},
   "outputs": [],
   "source": [
    "db = client.test_db\n",
    "# Alternatively db= client[\"test-db\"]\n",
    "\n",
    "test_col = db.test_col\n",
    "#Alternatively test_col = db[\"test-col\"]\n"
   ]
  },
  {
   "cell_type": "code",
   "execution_count": 59,
   "id": "cc65b6ba",
   "metadata": {},
   "outputs": [],
   "source": [
    "import datetime\n",
    "\n",
    "title = \"This is my first mongo insert\"\n",
    "content = \"This has the content of the blog\"\n",
    "img_id = [\"id for first img\", \"id for the second img\",\"Id for the third img\"]\n",
    "writting_date = datetime.datetime.now()\n",
    "author = \"arc\"\n",
    "\n",
    "\n",
    "post = {\n",
    "        \"title\":title,\n",
    "        \"content\":content,\n",
    "        \"author\":author,\n",
    "        \"img_id\":img_id,\n",
    "        \"writting_date\":writting_date,\n",
    "        \"timestamp_of_insertion\":datetime.datetime.now()\n",
    "}"
   ]
  },
  {
   "cell_type": "code",
   "execution_count": 60,
   "id": "f4e676ae",
   "metadata": {},
   "outputs": [
    {
     "name": "stdout",
     "output_type": "stream",
     "text": [
      "68037b1dcbc53b9c6e7f72ff\n"
     ]
    }
   ],
   "source": [
    "posts = db.posts\n",
    "post_id = posts.insert_one(post).inserted_id\n",
    "\n",
    "print(post_id)\n",
    "\n"
   ]
  },
  {
   "cell_type": "code",
   "execution_count": 61,
   "id": "937b93e5",
   "metadata": {},
   "outputs": [
    {
     "name": "stdout",
     "output_type": "stream",
     "text": [
      "['posts']\n"
     ]
    }
   ],
   "source": [
    "print(db.list_collection_names())"
   ]
  },
  {
   "cell_type": "code",
   "execution_count": 62,
   "id": "94ce267b",
   "metadata": {},
   "outputs": [
    {
     "name": "stdout",
     "output_type": "stream",
     "text": [
      "Defaulting to user installation because normal site-packages is not writeable\n",
      "\u001b[31mERROR: Could not find a version that satisfies the requirement pprint (from versions: none)\u001b[0m\u001b[31m\n",
      "\u001b[0m\u001b[31mERROR: No matching distribution found for pprint\u001b[0m\u001b[31m\n",
      "\u001b[0mNote: you may need to restart the kernel to use updated packages.\n"
     ]
    }
   ],
   "source": [
    "pip install pprint"
   ]
  },
  {
   "cell_type": "code",
   "execution_count": 63,
   "id": "f40ce38a",
   "metadata": {},
   "outputs": [],
   "source": [
    "import pprint as prettyprint # type: ignore\n",
    "\n",
    "# prettyprint.pprint(posts.find_one(post_id))"
   ]
  },
  {
   "cell_type": "markdown",
   "id": "9169cfd4",
   "metadata": {},
   "source": [
    "## Short note on BSON\n",
    "---\n",
    "- BSON stands for binary JSON\n",
    "- Used for storing RPC(remote procedure call) and documents\n",
    "- some examples of types not avalable in JSON but in BSON are \n",
    "    - ObjectID\n",
    "    - Data\n",
    "    - Binary data\n",
    "- Porvides faster traversal of encoded data\n",
    "\n",
    "### Why?\n",
    "- 12 bytes ObjectId by mongo containing\n",
    "    - A 4-byte timestamp, representing the ObjectId's creation, measured in seconds since the Unix epoch.\n",
    "\n",
    "    - A 5-byte random value generated once per process. This random value is unique to the machine and process.\n",
    "\n",
    "    - A 3-byte incrementing counter, initialized to a random value\n",
    "\n",
    "- this gurantees uniqueness\n"
   ]
  },
  {
   "cell_type": "code",
   "execution_count": 64,
   "id": "2402141f",
   "metadata": {},
   "outputs": [
    {
     "name": "stdout",
     "output_type": "stream",
     "text": [
      "{'_id': ObjectId('680375bacbc53b9c6e7f72fa'),\n",
      " 'author': 'arc',\n",
      " 'content': 'This has the content of the blog',\n",
      " 'img_id': ['id for first img',\n",
      "            'id for the second img',\n",
      "            'Id for the third img'],\n",
      " 'timestamp_of_insertion': datetime.datetime(2025, 4, 19, 15, 36, 44, 961000),\n",
      " 'title': 'This is my first mongo insert',\n",
      " 'writting_date': datetime.datetime(2025, 4, 19, 15, 36, 44, 961000)}\n"
     ]
    }
   ],
   "source": [
    "from bson.objectid import ObjectId\n",
    "\n",
    "#note how we have to first convert to the BSON ObjectId tp query\n",
    "prettyprint.pprint(posts.find_one({'_id':ObjectId('680375bacbc53b9c6e7f72fa')}))"
   ]
  },
  {
   "cell_type": "code",
   "execution_count": 65,
   "id": "284a82e6",
   "metadata": {},
   "outputs": [],
   "source": [
    "#inserting a list of JSON\n",
    "list_of_posts = [\n",
    "    {\n",
    "        \"title\":\"tis the second post\",\n",
    "        \"content\":\"tis the content of second post\",\n",
    "        \"img_id\":[\"12331231\"],\n",
    "        \"author\":\"arc\",\n",
    "        \"writting_date\":datetime.datetime.now(),\n",
    "        \"timestamp_of_insertion\": datetime.datetime.now()\n",
    "    },\n",
    "    {\n",
    "        \"title\":\"this is the third post\",\n",
    "        \"content\":\"I am exhausted by typing all this dummy text\",\n",
    "        \"author\": \"blah\",\n",
    "        \"img_id\":[\"123123132\"],\n",
    "        \"writting_date\":datetime.datetime.now(),\n",
    "        \"timestamp_of_insertion\":datetime.datetime.now()\n",
    "    }\n",
    "]\n",
    "\n",
    "lst_of_id = posts.insert_many(list_of_posts)"
   ]
  },
  {
   "cell_type": "code",
   "execution_count": 66,
   "id": "75d255e8",
   "metadata": {},
   "outputs": [
    {
     "name": "stdout",
     "output_type": "stream",
     "text": [
      "True\n",
      "[ObjectId('68037b1ecbc53b9c6e7f7300'), ObjectId('68037b1ecbc53b9c6e7f7301')]\n"
     ]
    }
   ],
   "source": [
    "#to get if the insertion worked\n",
    "print(lst_of_id.acknowledged)\n",
    "\n",
    "#to get the ids of inserted posts\n",
    "print(lst_of_id.inserted_ids)"
   ]
  },
  {
   "cell_type": "code",
   "execution_count": 67,
   "id": "939f95e6",
   "metadata": {},
   "outputs": [
    {
     "name": "stdout",
     "output_type": "stream",
     "text": [
      "{'_id': ObjectId('680375bacbc53b9c6e7f72fa'),\n",
      " 'author': 'arc',\n",
      " 'content': 'This has the content of the blog',\n",
      " 'img_id': ['id for first img',\n",
      "            'id for the second img',\n",
      "            'Id for the third img'],\n",
      " 'timestamp_of_insertion': datetime.datetime(2025, 4, 19, 15, 36, 44, 961000),\n",
      " 'title': 'This is my first mongo insert',\n",
      " 'writting_date': datetime.datetime(2025, 4, 19, 15, 36, 44, 961000)}\n",
      "{'_id': ObjectId('680375edcbc53b9c6e7f72fb'),\n",
      " 'author': 'arc',\n",
      " 'content': 'tis the content of second post',\n",
      " 'img_id': ['12331231'],\n",
      " 'timestamp_of_insertion': datetime.datetime(2025, 4, 19, 15, 37, 41, 296000),\n",
      " 'title': 'tis the second post',\n",
      " 'writting_date': datetime.datetime(2025, 4, 19, 15, 37, 41, 296000)}\n",
      "{'_id': ObjectId('680375edcbc53b9c6e7f72fc'),\n",
      " 'author': 'blah',\n",
      " 'content': 'I am exhausted by typing all this dummy text',\n",
      " 'img_id': ['123123132'],\n",
      " 'timestamp_of_insertion': datetime.datetime(2025, 4, 19, 15, 37, 41, 296000),\n",
      " 'title': 'this is the third post',\n",
      " 'writting_date': datetime.datetime(2025, 4, 19, 15, 37, 41, 296000)}\n",
      "{'_id': ObjectId('68037b1dcbc53b9c6e7f72ff'),\n",
      " 'author': 'arc',\n",
      " 'content': 'This has the content of the blog',\n",
      " 'img_id': ['id for first img',\n",
      "            'id for the second img',\n",
      "            'Id for the third img'],\n",
      " 'timestamp_of_insertion': datetime.datetime(2025, 4, 19, 15, 59, 49, 322000),\n",
      " 'title': 'This is my first mongo insert',\n",
      " 'writting_date': datetime.datetime(2025, 4, 19, 15, 59, 49, 321000)}\n",
      "{'_id': ObjectId('68037b1ecbc53b9c6e7f7300'),\n",
      " 'author': 'arc',\n",
      " 'content': 'tis the content of second post',\n",
      " 'img_id': ['12331231'],\n",
      " 'timestamp_of_insertion': datetime.datetime(2025, 4, 19, 15, 59, 50, 215000),\n",
      " 'title': 'tis the second post',\n",
      " 'writting_date': datetime.datetime(2025, 4, 19, 15, 59, 50, 215000)}\n",
      "{'_id': ObjectId('68037b1ecbc53b9c6e7f7301'),\n",
      " 'author': 'blah',\n",
      " 'content': 'I am exhausted by typing all this dummy text',\n",
      " 'img_id': ['123123132'],\n",
      " 'timestamp_of_insertion': datetime.datetime(2025, 4, 19, 15, 59, 50, 215000),\n",
      " 'title': 'this is the third post',\n",
      " 'writting_date': datetime.datetime(2025, 4, 19, 15, 59, 50, 215000)}\n"
     ]
    }
   ],
   "source": [
    "# Now to find posts\n",
    "\n",
    "posts_cursor = posts.find()\n",
    "\n",
    "for post in posts_cursor:\n",
    "    prettyprint.pprint(post)\n",
    "\n"
   ]
  },
  {
   "cell_type": "code",
   "execution_count": 68,
   "id": "48533165",
   "metadata": {},
   "outputs": [
    {
     "name": "stdout",
     "output_type": "stream",
     "text": [
      "{'_id': ObjectId('680375bacbc53b9c6e7f72fa'),\n",
      " 'author': 'arc',\n",
      " 'content': 'This has the content of the blog',\n",
      " 'img_id': ['id for first img',\n",
      "            'id for the second img',\n",
      "            'Id for the third img'],\n",
      " 'timestamp_of_insertion': datetime.datetime(2025, 4, 19, 15, 36, 44, 961000),\n",
      " 'title': 'This is my first mongo insert',\n",
      " 'writting_date': datetime.datetime(2025, 4, 19, 15, 36, 44, 961000)}\n",
      "\n",
      "\n",
      "\n",
      "-------------------------------------------------\n",
      "\n",
      "\n",
      "\n",
      "{'_id': ObjectId('680375edcbc53b9c6e7f72fb'),\n",
      " 'author': 'arc',\n",
      " 'content': 'tis the content of second post',\n",
      " 'img_id': ['12331231'],\n",
      " 'timestamp_of_insertion': datetime.datetime(2025, 4, 19, 15, 37, 41, 296000),\n",
      " 'title': 'tis the second post',\n",
      " 'writting_date': datetime.datetime(2025, 4, 19, 15, 37, 41, 296000)}\n",
      "\n",
      "\n",
      "\n",
      "-------------------------------------------------\n",
      "\n",
      "\n",
      "\n",
      "{'_id': ObjectId('68037b1dcbc53b9c6e7f72ff'),\n",
      " 'author': 'arc',\n",
      " 'content': 'This has the content of the blog',\n",
      " 'img_id': ['id for first img',\n",
      "            'id for the second img',\n",
      "            'Id for the third img'],\n",
      " 'timestamp_of_insertion': datetime.datetime(2025, 4, 19, 15, 59, 49, 322000),\n",
      " 'title': 'This is my first mongo insert',\n",
      " 'writting_date': datetime.datetime(2025, 4, 19, 15, 59, 49, 321000)}\n",
      "\n",
      "\n",
      "\n",
      "-------------------------------------------------\n",
      "\n",
      "\n",
      "\n",
      "{'_id': ObjectId('68037b1ecbc53b9c6e7f7300'),\n",
      " 'author': 'arc',\n",
      " 'content': 'tis the content of second post',\n",
      " 'img_id': ['12331231'],\n",
      " 'timestamp_of_insertion': datetime.datetime(2025, 4, 19, 15, 59, 50, 215000),\n",
      " 'title': 'tis the second post',\n",
      " 'writting_date': datetime.datetime(2025, 4, 19, 15, 59, 50, 215000)}\n",
      "\n",
      "\n",
      "\n",
      "-------------------------------------------------\n",
      "\n",
      "\n",
      "\n",
      "No of posts by Arc are : 4\n"
     ]
    }
   ],
   "source": [
    "#to filter people we do\n",
    "arc_cursor_posts = posts.find({\"author\":\"arc\"})\n",
    "\n",
    "for post in arc_cursor_posts:\n",
    "    prettyprint.pprint(post)\n",
    "    print(\"\\n\\n\\n-------------------------------------------------\\n\\n\\n\")\n",
    "\n",
    "arc_posts_count = posts.count_documents({\"author\":\"arc\"})\n",
    "print(f\"No of posts by Arc are : {arc_posts_count}\")"
   ]
  },
  {
   "cell_type": "code",
   "execution_count": 73,
   "id": "0501a079",
   "metadata": {},
   "outputs": [
    {
     "name": "stdout",
     "output_type": "stream",
     "text": [
      "{'_id': ObjectId('680375bacbc53b9c6e7f72fa'),\n",
      " 'author': 'arc',\n",
      " 'content': 'This has the content of the blog',\n",
      " 'img_id': ['id for first img',\n",
      "            'id for the second img',\n",
      "            'Id for the third img'],\n",
      " 'timestamp_of_insertion': datetime.datetime(2025, 4, 19, 15, 36, 44, 961000),\n",
      " 'title': 'This is my first mongo insert',\n",
      " 'writting_date': datetime.datetime(2025, 4, 19, 15, 36, 44, 961000)}\n",
      "\n",
      "\n",
      "\n",
      "--------------------------------------------\n",
      "\n",
      "\n",
      "\n",
      "{'_id': ObjectId('680375edcbc53b9c6e7f72fb'),\n",
      " 'author': 'arc',\n",
      " 'content': 'tis the content of second post',\n",
      " 'img_id': ['12331231'],\n",
      " 'timestamp_of_insertion': datetime.datetime(2025, 4, 19, 15, 37, 41, 296000),\n",
      " 'title': 'tis the second post',\n",
      " 'writting_date': datetime.datetime(2025, 4, 19, 15, 37, 41, 296000)}\n",
      "\n",
      "\n",
      "\n",
      "--------------------------------------------\n",
      "\n",
      "\n",
      "\n",
      "{'_id': ObjectId('68037b1dcbc53b9c6e7f72ff'),\n",
      " 'author': 'arc',\n",
      " 'content': 'This has the content of the blog',\n",
      " 'img_id': ['id for first img',\n",
      "            'id for the second img',\n",
      "            'Id for the third img'],\n",
      " 'timestamp_of_insertion': datetime.datetime(2025, 4, 19, 15, 59, 49, 322000),\n",
      " 'title': 'This is my first mongo insert',\n",
      " 'writting_date': datetime.datetime(2025, 4, 19, 15, 59, 49, 321000)}\n",
      "\n",
      "\n",
      "\n",
      "--------------------------------------------\n",
      "\n",
      "\n",
      "\n",
      "{'_id': ObjectId('68037b1ecbc53b9c6e7f7300'),\n",
      " 'author': 'arc',\n",
      " 'content': 'tis the content of second post',\n",
      " 'img_id': ['12331231'],\n",
      " 'timestamp_of_insertion': datetime.datetime(2025, 4, 19, 15, 59, 50, 215000),\n",
      " 'title': 'tis the second post',\n",
      " 'writting_date': datetime.datetime(2025, 4, 19, 15, 59, 50, 215000)}\n",
      "\n",
      "\n",
      "\n",
      "--------------------------------------------\n",
      "\n",
      "\n",
      "\n",
      "{'_id': ObjectId('680375edcbc53b9c6e7f72fc'),\n",
      " 'author': 'blah',\n",
      " 'content': 'I am exhausted by typing all this dummy text',\n",
      " 'img_id': ['123123132'],\n",
      " 'timestamp_of_insertion': datetime.datetime(2025, 4, 19, 15, 37, 41, 296000),\n",
      " 'title': 'this is the third post',\n",
      " 'writting_date': datetime.datetime(2025, 3, 17, 15, 37, 41, 296000)}\n",
      "\n",
      "\n",
      "\n",
      "--------------------------------------------\n",
      "\n",
      "\n",
      "\n",
      "{'_id': ObjectId('68037b1ecbc53b9c6e7f7301'),\n",
      " 'author': 'blah',\n",
      " 'content': 'I am exhausted by typing all this dummy text',\n",
      " 'img_id': ['123123132'],\n",
      " 'timestamp_of_insertion': datetime.datetime(2025, 4, 19, 15, 59, 50, 215000),\n",
      " 'title': 'this is the third post',\n",
      " 'writting_date': datetime.datetime(2025, 4, 19, 15, 59, 50, 215000)}\n",
      "\n",
      "\n",
      "\n",
      "--------------------------------------------\n",
      "\n",
      "\n",
      "\n"
     ]
    }
   ],
   "source": [
    "# range based learch and filter\n",
    "import datetime\n",
    "date_before = datetime.datetime(2025, 4, 19,17,12)\n",
    "date_filter_cursor = posts.find({\"writting_date\": {\"$lt\":date_before}}).sort(\"author\")\n",
    "\n",
    "for post in date_filter_cursor:\n",
    "    prettyprint.pprint(post)\n",
    "    print(\"\\n\\n\\n--------------------------------------------\\n\\n\\n\")"
   ]
  },
  {
   "cell_type": "code",
   "execution_count": 78,
   "id": "ddbe0fd4",
   "metadata": {},
   "outputs": [],
   "source": [
    "#creating indexes for faster query on the particular query\n",
    "\n",
    "result_index = posts.create_index([(\"writting_date\", pymongo.DESCENDING)])\n"
   ]
  },
  {
   "cell_type": "code",
   "execution_count": 80,
   "id": "12f08f02",
   "metadata": {},
   "outputs": [
    {
     "name": "stdout",
     "output_type": "stream",
     "text": [
      "['_id_', 'writting_date_-1']\n"
     ]
    }
   ],
   "source": [
    "print(sorted(list(posts.index_information())))"
   ]
  },
  {
   "cell_type": "code",
   "execution_count": null,
   "id": "830b42b3",
   "metadata": {},
   "outputs": [],
   "source": []
  }
 ],
 "metadata": {
  "kernelspec": {
   "display_name": "Python 3",
   "language": "python",
   "name": "python3"
  },
  "language_info": {
   "codemirror_mode": {
    "name": "ipython",
    "version": 3
   },
   "file_extension": ".py",
   "mimetype": "text/x-python",
   "name": "python",
   "nbconvert_exporter": "python",
   "pygments_lexer": "ipython3",
   "version": "3.12.9"
  }
 },
 "nbformat": 4,
 "nbformat_minor": 5
}
